{
  "nbformat": 4,
  "nbformat_minor": 0,
  "metadata": {
    "colab": {
      "provenance": [],
      "toc_visible": true,
      "authorship_tag": "ABX9TyNkgOPKI1G0MJy6hvvgb8H9",
      "include_colab_link": true
    },
    "kernelspec": {
      "name": "python3",
      "display_name": "Python 3"
    },
    "language_info": {
      "name": "python"
    },
    "widgets": {
      "application/vnd.jupyter.widget-state+json": {
        "aa96adb5faae4c8185c6e2cca0196a45": {
          "model_module": "@jupyter-widgets/controls",
          "model_name": "HBoxModel",
          "model_module_version": "1.5.0",
          "state": {
            "_dom_classes": [],
            "_model_module": "@jupyter-widgets/controls",
            "_model_module_version": "1.5.0",
            "_model_name": "HBoxModel",
            "_view_count": null,
            "_view_module": "@jupyter-widgets/controls",
            "_view_module_version": "1.5.0",
            "_view_name": "HBoxView",
            "box_style": "",
            "children": [
              "IPY_MODEL_5513d25df75145ab84865b461ec09756",
              "IPY_MODEL_36a703f0cc194068ae6a88bd538ef2c6",
              "IPY_MODEL_1f9a3bfa53f34d60b638e494dc2b55ed"
            ],
            "layout": "IPY_MODEL_9bb123cb746248c6ad7b0ba8a5f18a77"
          }
        },
        "5513d25df75145ab84865b461ec09756": {
          "model_module": "@jupyter-widgets/controls",
          "model_name": "HTMLModel",
          "model_module_version": "1.5.0",
          "state": {
            "_dom_classes": [],
            "_model_module": "@jupyter-widgets/controls",
            "_model_module_version": "1.5.0",
            "_model_name": "HTMLModel",
            "_view_count": null,
            "_view_module": "@jupyter-widgets/controls",
            "_view_module_version": "1.5.0",
            "_view_name": "HTMLView",
            "description": "",
            "description_tooltip": null,
            "layout": "IPY_MODEL_d2affa499984462aa2b1343bbb9d19a4",
            "placeholder": "​",
            "style": "IPY_MODEL_9e8e0c2b51f04e6694e9f06c019c1192",
            "value": "Optimization Progress: 100%"
          }
        },
        "36a703f0cc194068ae6a88bd538ef2c6": {
          "model_module": "@jupyter-widgets/controls",
          "model_name": "FloatProgressModel",
          "model_module_version": "1.5.0",
          "state": {
            "_dom_classes": [],
            "_model_module": "@jupyter-widgets/controls",
            "_model_module_version": "1.5.0",
            "_model_name": "FloatProgressModel",
            "_view_count": null,
            "_view_module": "@jupyter-widgets/controls",
            "_view_module_version": "1.5.0",
            "_view_name": "ProgressView",
            "bar_style": "",
            "description": "",
            "description_tooltip": null,
            "layout": "IPY_MODEL_2c3bf522ce584050a69ce5059d893c5b",
            "max": 175,
            "min": 0,
            "orientation": "horizontal",
            "style": "IPY_MODEL_f04cf7052859454d814edaa9cd22439d",
            "value": 175
          }
        },
        "1f9a3bfa53f34d60b638e494dc2b55ed": {
          "model_module": "@jupyter-widgets/controls",
          "model_name": "HTMLModel",
          "model_module_version": "1.5.0",
          "state": {
            "_dom_classes": [],
            "_model_module": "@jupyter-widgets/controls",
            "_model_module_version": "1.5.0",
            "_model_name": "HTMLModel",
            "_view_count": null,
            "_view_module": "@jupyter-widgets/controls",
            "_view_module_version": "1.5.0",
            "_view_name": "HTMLView",
            "description": "",
            "description_tooltip": null,
            "layout": "IPY_MODEL_94213e024aff41f187874ee8652f7279",
            "placeholder": "​",
            "style": "IPY_MODEL_0f5b7645213145d19780ede2327743d9",
            "value": " 175/175 [00:10&lt;00:00, 15.46pipeline/s]"
          }
        },
        "9bb123cb746248c6ad7b0ba8a5f18a77": {
          "model_module": "@jupyter-widgets/base",
          "model_name": "LayoutModel",
          "model_module_version": "1.2.0",
          "state": {
            "_model_module": "@jupyter-widgets/base",
            "_model_module_version": "1.2.0",
            "_model_name": "LayoutModel",
            "_view_count": null,
            "_view_module": "@jupyter-widgets/base",
            "_view_module_version": "1.2.0",
            "_view_name": "LayoutView",
            "align_content": null,
            "align_items": null,
            "align_self": null,
            "border": null,
            "bottom": null,
            "display": null,
            "flex": null,
            "flex_flow": null,
            "grid_area": null,
            "grid_auto_columns": null,
            "grid_auto_flow": null,
            "grid_auto_rows": null,
            "grid_column": null,
            "grid_gap": null,
            "grid_row": null,
            "grid_template_areas": null,
            "grid_template_columns": null,
            "grid_template_rows": null,
            "height": null,
            "justify_content": null,
            "justify_items": null,
            "left": null,
            "margin": null,
            "max_height": null,
            "max_width": null,
            "min_height": null,
            "min_width": null,
            "object_fit": null,
            "object_position": null,
            "order": null,
            "overflow": null,
            "overflow_x": null,
            "overflow_y": null,
            "padding": null,
            "right": null,
            "top": null,
            "visibility": "hidden",
            "width": null
          }
        },
        "d2affa499984462aa2b1343bbb9d19a4": {
          "model_module": "@jupyter-widgets/base",
          "model_name": "LayoutModel",
          "model_module_version": "1.2.0",
          "state": {
            "_model_module": "@jupyter-widgets/base",
            "_model_module_version": "1.2.0",
            "_model_name": "LayoutModel",
            "_view_count": null,
            "_view_module": "@jupyter-widgets/base",
            "_view_module_version": "1.2.0",
            "_view_name": "LayoutView",
            "align_content": null,
            "align_items": null,
            "align_self": null,
            "border": null,
            "bottom": null,
            "display": null,
            "flex": null,
            "flex_flow": null,
            "grid_area": null,
            "grid_auto_columns": null,
            "grid_auto_flow": null,
            "grid_auto_rows": null,
            "grid_column": null,
            "grid_gap": null,
            "grid_row": null,
            "grid_template_areas": null,
            "grid_template_columns": null,
            "grid_template_rows": null,
            "height": null,
            "justify_content": null,
            "justify_items": null,
            "left": null,
            "margin": null,
            "max_height": null,
            "max_width": null,
            "min_height": null,
            "min_width": null,
            "object_fit": null,
            "object_position": null,
            "order": null,
            "overflow": null,
            "overflow_x": null,
            "overflow_y": null,
            "padding": null,
            "right": null,
            "top": null,
            "visibility": null,
            "width": null
          }
        },
        "9e8e0c2b51f04e6694e9f06c019c1192": {
          "model_module": "@jupyter-widgets/controls",
          "model_name": "DescriptionStyleModel",
          "model_module_version": "1.5.0",
          "state": {
            "_model_module": "@jupyter-widgets/controls",
            "_model_module_version": "1.5.0",
            "_model_name": "DescriptionStyleModel",
            "_view_count": null,
            "_view_module": "@jupyter-widgets/base",
            "_view_module_version": "1.2.0",
            "_view_name": "StyleView",
            "description_width": ""
          }
        },
        "2c3bf522ce584050a69ce5059d893c5b": {
          "model_module": "@jupyter-widgets/base",
          "model_name": "LayoutModel",
          "model_module_version": "1.2.0",
          "state": {
            "_model_module": "@jupyter-widgets/base",
            "_model_module_version": "1.2.0",
            "_model_name": "LayoutModel",
            "_view_count": null,
            "_view_module": "@jupyter-widgets/base",
            "_view_module_version": "1.2.0",
            "_view_name": "LayoutView",
            "align_content": null,
            "align_items": null,
            "align_self": null,
            "border": null,
            "bottom": null,
            "display": null,
            "flex": null,
            "flex_flow": null,
            "grid_area": null,
            "grid_auto_columns": null,
            "grid_auto_flow": null,
            "grid_auto_rows": null,
            "grid_column": null,
            "grid_gap": null,
            "grid_row": null,
            "grid_template_areas": null,
            "grid_template_columns": null,
            "grid_template_rows": null,
            "height": null,
            "justify_content": null,
            "justify_items": null,
            "left": null,
            "margin": null,
            "max_height": null,
            "max_width": null,
            "min_height": null,
            "min_width": null,
            "object_fit": null,
            "object_position": null,
            "order": null,
            "overflow": null,
            "overflow_x": null,
            "overflow_y": null,
            "padding": null,
            "right": null,
            "top": null,
            "visibility": null,
            "width": null
          }
        },
        "f04cf7052859454d814edaa9cd22439d": {
          "model_module": "@jupyter-widgets/controls",
          "model_name": "ProgressStyleModel",
          "model_module_version": "1.5.0",
          "state": {
            "_model_module": "@jupyter-widgets/controls",
            "_model_module_version": "1.5.0",
            "_model_name": "ProgressStyleModel",
            "_view_count": null,
            "_view_module": "@jupyter-widgets/base",
            "_view_module_version": "1.2.0",
            "_view_name": "StyleView",
            "bar_color": null,
            "description_width": ""
          }
        },
        "94213e024aff41f187874ee8652f7279": {
          "model_module": "@jupyter-widgets/base",
          "model_name": "LayoutModel",
          "model_module_version": "1.2.0",
          "state": {
            "_model_module": "@jupyter-widgets/base",
            "_model_module_version": "1.2.0",
            "_model_name": "LayoutModel",
            "_view_count": null,
            "_view_module": "@jupyter-widgets/base",
            "_view_module_version": "1.2.0",
            "_view_name": "LayoutView",
            "align_content": null,
            "align_items": null,
            "align_self": null,
            "border": null,
            "bottom": null,
            "display": null,
            "flex": null,
            "flex_flow": null,
            "grid_area": null,
            "grid_auto_columns": null,
            "grid_auto_flow": null,
            "grid_auto_rows": null,
            "grid_column": null,
            "grid_gap": null,
            "grid_row": null,
            "grid_template_areas": null,
            "grid_template_columns": null,
            "grid_template_rows": null,
            "height": null,
            "justify_content": null,
            "justify_items": null,
            "left": null,
            "margin": null,
            "max_height": null,
            "max_width": null,
            "min_height": null,
            "min_width": null,
            "object_fit": null,
            "object_position": null,
            "order": null,
            "overflow": null,
            "overflow_x": null,
            "overflow_y": null,
            "padding": null,
            "right": null,
            "top": null,
            "visibility": null,
            "width": null
          }
        },
        "0f5b7645213145d19780ede2327743d9": {
          "model_module": "@jupyter-widgets/controls",
          "model_name": "DescriptionStyleModel",
          "model_module_version": "1.5.0",
          "state": {
            "_model_module": "@jupyter-widgets/controls",
            "_model_module_version": "1.5.0",
            "_model_name": "DescriptionStyleModel",
            "_view_count": null,
            "_view_module": "@jupyter-widgets/base",
            "_view_module_version": "1.2.0",
            "_view_name": "StyleView",
            "description_width": ""
          }
        }
      }
    }
  },
  "cells": [
    {
      "cell_type": "markdown",
      "metadata": {
        "id": "view-in-github",
        "colab_type": "text"
      },
      "source": [
        "<a href=\"https://colab.research.google.com/github/PavelNovikov888/hiperpameters_optimization/blob/master/%D0%9F%D0%BE%D0%B4%D0%B1%D0%BE%D1%80_%D0%B3%D0%B8%D0%BF%D0%B5%D1%80%D0%BF%D0%B0%D1%80%D0%B0%D0%BC%D0%B5%D1%82%D1%80%D0%BE%D0%B2_%D0%91%D0%B0%D0%B9%D0%B5%D1%81.ipynb\" target=\"_parent\"><img src=\"https://colab.research.google.com/assets/colab-badge.svg\" alt=\"Open In Colab\"/></a>"
      ]
    },
    {
      "cell_type": "markdown",
      "source": [
        "# ЭТАП 0. ПОДГОТОВКА\n",
        "\n"
      ],
      "metadata": {
        "id": "g5szIbv1J32x"
      }
    },
    {
      "cell_type": "code",
      "source": [
        "from sklearn.linear_model import LogisticRegression\n",
        "from sklearn.pipeline import Pipeline\n",
        "\n",
        "from sklearn.model_selection import GridSearchCV, KFold, RandomizedSearchCV\n",
        "from sklearn.model_selection import cross_val_score\n",
        "\n",
        "import numpy as np\n",
        "\n",
        "# генерация данных\n",
        "from sklearn.datasets import make_classification\n",
        "\n",
        "# для настройки гиперпараметров\n",
        "from scipy.stats import loguniform\n",
        "from sklearn.pipeline import Pipeline"
      ],
      "metadata": {
        "id": "7mL4Gr20Wigy"
      },
      "execution_count": 31,
      "outputs": []
    },
    {
      "cell_type": "markdown",
      "source": [
        "## Генерация данных\n",
        "\n",
        "С помощью make_classification из sklearn.datasets сгенерируем датасет с 1 000 объектов, 10 признаками и бинарным таргетом."
      ],
      "metadata": {
        "id": "rI-mdXpTKGZb"
      }
    },
    {
      "cell_type": "code",
      "execution_count": 2,
      "metadata": {
        "id": "tgOFTaL5Jbmb"
      },
      "outputs": [],
      "source": [
        "# from sklearn.datasets import make_classification\n",
        "# создадим случайную задачу регрессии\n",
        "X, y = make_classification(\n",
        "    # количество наблюдений\n",
        "    n_samples=1000,\n",
        "    # количество признаков\n",
        "    n_features=10,\n",
        "    # количество признаков, использованных для построения линейной модели, используемой для генерации выходных данных.\n",
        "    n_classes = 2,\n",
        "    random_state=42,\n",
        ")"
      ]
    },
    {
      "cell_type": "code",
      "source": [
        "X.shape"
      ],
      "metadata": {
        "colab": {
          "base_uri": "https://localhost:8080/"
        },
        "id": "1wXm1RG2WUbe",
        "outputId": "3a881b92-58df-41b0-cd83-202f73831996"
      },
      "execution_count": 3,
      "outputs": [
        {
          "output_type": "execute_result",
          "data": {
            "text/plain": [
              "(1000, 10)"
            ]
          },
          "metadata": {},
          "execution_count": 3
        }
      ]
    },
    {
      "cell_type": "code",
      "source": [
        "y[:10]"
      ],
      "metadata": {
        "colab": {
          "base_uri": "https://localhost:8080/"
        },
        "id": "jewBY0PMWXrH",
        "outputId": "16b174c3-be59-4c03-e598-925c85cc1f74"
      },
      "execution_count": 4,
      "outputs": [
        {
          "output_type": "execute_result",
          "data": {
            "text/plain": [
              "array([0, 1, 1, 0, 1, 0, 0, 1, 1, 0])"
            ]
          },
          "metadata": {},
          "execution_count": 4
        }
      ]
    },
    {
      "cell_type": "markdown",
      "source": [
        "## Создадим сетку гиперпараметров"
      ],
      "metadata": {
        "id": "Tbk4UvLqXn5W"
      }
    },
    {
      "cell_type": "code",
      "source": [
        "search_space = {\n",
        "                'lr__penalty' : ['l1', 'l2'], # способ регуляризации\n",
        "                # loguniform.rvs - равномерно распределённые случайные величины\n",
        "                'lr__C' : loguniform.rvs(10**(-4),10**2, size=100) # коэффицент регуляризациии\n",
        "                }"
      ],
      "metadata": {
        "id": "tVt0MZ8aX2vU"
      },
      "execution_count": 5,
      "outputs": []
    },
    {
      "cell_type": "code",
      "source": [
        "search_space['lr__C'][:10]"
      ],
      "metadata": {
        "colab": {
          "base_uri": "https://localhost:8080/"
        },
        "id": "zxVtcozncadX",
        "outputId": "180b8695-72f5-4d31-d624-f496d89c1e57"
      },
      "execution_count": 6,
      "outputs": [
        {
          "output_type": "execute_result",
          "data": {
            "text/plain": [
              "array([9.94537269e-01, 9.59970017e+00, 1.75121924e+01, 7.23387374e-02,\n",
              "       3.33073195e+01, 2.64268734e+00, 5.97463675e-02, 1.21001897e-03,\n",
              "       2.70354099e+00, 8.47289525e-02])"
            ]
          },
          "metadata": {},
          "execution_count": 6
        }
      ]
    },
    {
      "cell_type": "markdown",
      "source": [
        "##  Инициализируем модель в виде пайплайна"
      ],
      "metadata": {
        "id": "82PGc-0PYOdS"
      }
    },
    {
      "cell_type": "markdown",
      "source": [
        "Параметр penalty будем выбирать равновероятно из  **['l1', 'l2']**, а параметр регуляризации С из лог-равномерного распределения может принимать значения **[10-4, 102]**."
      ],
      "metadata": {
        "id": "-yWnIZT8XXBo"
      }
    },
    {
      "cell_type": "code",
      "source": [
        "model = Pipeline([('lr', LogisticRegression(random_state=42,\n",
        "                            solver='liblinear'))])"
      ],
      "metadata": {
        "id": "HsyvZuwnZGYi"
      },
      "execution_count": 7,
      "outputs": []
    },
    {
      "cell_type": "markdown",
      "source": [
        "# GRID SEARCH\n",
        "\n",
        "Перебор по сетке будем выполнять с помощью GridSearchCV из sklearn.model_selection.\n",
        "\n",
        "При его инициализации укажем несколько параметров:\n",
        "\n",
        "- Модель (пайплайн)  \n",
        "- Сетку с параметрами\n",
        "- Количество разбиений для (Stratified)KFold, который используется по умолчанию = 3\n",
        "- Метрику для оценки производительности модели с перекрёстной проверкой на тестовом наборе scoring='accuracy'."
      ],
      "metadata": {
        "id": "r5CkmrxOeaVc"
      }
    },
    {
      "cell_type": "code",
      "source": [
        "cv = KFold(3)\n",
        "grid_search = GridSearchCV(model, param_grid=search_space, cv = cv, scoring='accuracy')\n",
        "grid_search"
      ],
      "metadata": {
        "colab": {
          "base_uri": "https://localhost:8080/",
          "height": 119
        },
        "id": "GzC-LOv2fsM9",
        "outputId": "36c62094-fd6e-4162-9445-14a8e4f483a2"
      },
      "execution_count": 8,
      "outputs": [
        {
          "output_type": "execute_result",
          "data": {
            "text/plain": [
              "GridSearchCV(cv=KFold(n_splits=3, random_state=None, shuffle=False),\n",
              "             estimator=Pipeline(steps=[('lr',\n",
              "                                        LogisticRegression(random_state=42,\n",
              "                                                           solver='liblinear'))]),\n",
              "             param_grid={'lr__C': array([9.94537269e-01, 9.59970017e+00, 1.75121924e+01, 7.23387374e-02,\n",
              "       3.33073195e+01, 2.64268734e+00, 5.97463675e-02, 1.21001897e-03,\n",
              "       2.70354099e+00, 8.47289525e-02, 3.21603731e+00, 1....\n",
              "       4.26008183e+00, 2.78051885e+00, 2.63958130e-04, 4.35266886e-02,\n",
              "       9.94353675e-04, 1.46407226e+00, 2.12590021e-02, 4.13646831e-01,\n",
              "       1.39444213e-04, 4.26428314e-01, 8.80746953e-02, 8.75296540e+00,\n",
              "       7.51750147e-01, 3.79923951e-02, 2.54776870e-03, 5.01242360e-03,\n",
              "       1.04075881e-02, 1.80599331e-01, 8.27564815e-04, 7.45451170e+01,\n",
              "       3.24632332e-01, 3.46030731e-01, 1.35957464e-02, 1.51036134e-04]),\n",
              "                         'lr__penalty': ['l1', 'l2']},\n",
              "             scoring='accuracy')"
            ],
            "text/html": [
              "<style>#sk-container-id-1 {color: black;background-color: white;}#sk-container-id-1 pre{padding: 0;}#sk-container-id-1 div.sk-toggleable {background-color: white;}#sk-container-id-1 label.sk-toggleable__label {cursor: pointer;display: block;width: 100%;margin-bottom: 0;padding: 0.3em;box-sizing: border-box;text-align: center;}#sk-container-id-1 label.sk-toggleable__label-arrow:before {content: \"▸\";float: left;margin-right: 0.25em;color: #696969;}#sk-container-id-1 label.sk-toggleable__label-arrow:hover:before {color: black;}#sk-container-id-1 div.sk-estimator:hover label.sk-toggleable__label-arrow:before {color: black;}#sk-container-id-1 div.sk-toggleable__content {max-height: 0;max-width: 0;overflow: hidden;text-align: left;background-color: #f0f8ff;}#sk-container-id-1 div.sk-toggleable__content pre {margin: 0.2em;color: black;border-radius: 0.25em;background-color: #f0f8ff;}#sk-container-id-1 input.sk-toggleable__control:checked~div.sk-toggleable__content {max-height: 200px;max-width: 100%;overflow: auto;}#sk-container-id-1 input.sk-toggleable__control:checked~label.sk-toggleable__label-arrow:before {content: \"▾\";}#sk-container-id-1 div.sk-estimator input.sk-toggleable__control:checked~label.sk-toggleable__label {background-color: #d4ebff;}#sk-container-id-1 div.sk-label input.sk-toggleable__control:checked~label.sk-toggleable__label {background-color: #d4ebff;}#sk-container-id-1 input.sk-hidden--visually {border: 0;clip: rect(1px 1px 1px 1px);clip: rect(1px, 1px, 1px, 1px);height: 1px;margin: -1px;overflow: hidden;padding: 0;position: absolute;width: 1px;}#sk-container-id-1 div.sk-estimator {font-family: monospace;background-color: #f0f8ff;border: 1px dotted black;border-radius: 0.25em;box-sizing: border-box;margin-bottom: 0.5em;}#sk-container-id-1 div.sk-estimator:hover {background-color: #d4ebff;}#sk-container-id-1 div.sk-parallel-item::after {content: \"\";width: 100%;border-bottom: 1px solid gray;flex-grow: 1;}#sk-container-id-1 div.sk-label:hover label.sk-toggleable__label {background-color: #d4ebff;}#sk-container-id-1 div.sk-serial::before {content: \"\";position: absolute;border-left: 1px solid gray;box-sizing: border-box;top: 0;bottom: 0;left: 50%;z-index: 0;}#sk-container-id-1 div.sk-serial {display: flex;flex-direction: column;align-items: center;background-color: white;padding-right: 0.2em;padding-left: 0.2em;position: relative;}#sk-container-id-1 div.sk-item {position: relative;z-index: 1;}#sk-container-id-1 div.sk-parallel {display: flex;align-items: stretch;justify-content: center;background-color: white;position: relative;}#sk-container-id-1 div.sk-item::before, #sk-container-id-1 div.sk-parallel-item::before {content: \"\";position: absolute;border-left: 1px solid gray;box-sizing: border-box;top: 0;bottom: 0;left: 50%;z-index: -1;}#sk-container-id-1 div.sk-parallel-item {display: flex;flex-direction: column;z-index: 1;position: relative;background-color: white;}#sk-container-id-1 div.sk-parallel-item:first-child::after {align-self: flex-end;width: 50%;}#sk-container-id-1 div.sk-parallel-item:last-child::after {align-self: flex-start;width: 50%;}#sk-container-id-1 div.sk-parallel-item:only-child::after {width: 0;}#sk-container-id-1 div.sk-dashed-wrapped {border: 1px dashed gray;margin: 0 0.4em 0.5em 0.4em;box-sizing: border-box;padding-bottom: 0.4em;background-color: white;}#sk-container-id-1 div.sk-label label {font-family: monospace;font-weight: bold;display: inline-block;line-height: 1.2em;}#sk-container-id-1 div.sk-label-container {text-align: center;}#sk-container-id-1 div.sk-container {/* jupyter's `normalize.less` sets `[hidden] { display: none; }` but bootstrap.min.css set `[hidden] { display: none !important; }` so we also need the `!important` here to be able to override the default hidden behavior on the sphinx rendered scikit-learn.org. See: https://github.com/scikit-learn/scikit-learn/issues/21755 */display: inline-block !important;position: relative;}#sk-container-id-1 div.sk-text-repr-fallback {display: none;}</style><div id=\"sk-container-id-1\" class=\"sk-top-container\"><div class=\"sk-text-repr-fallback\"><pre>GridSearchCV(cv=KFold(n_splits=3, random_state=None, shuffle=False),\n",
              "             estimator=Pipeline(steps=[(&#x27;lr&#x27;,\n",
              "                                        LogisticRegression(random_state=42,\n",
              "                                                           solver=&#x27;liblinear&#x27;))]),\n",
              "             param_grid={&#x27;lr__C&#x27;: array([9.94537269e-01, 9.59970017e+00, 1.75121924e+01, 7.23387374e-02,\n",
              "       3.33073195e+01, 2.64268734e+00, 5.97463675e-02, 1.21001897e-03,\n",
              "       2.70354099e+00, 8.47289525e-02, 3.21603731e+00, 1....\n",
              "       4.26008183e+00, 2.78051885e+00, 2.63958130e-04, 4.35266886e-02,\n",
              "       9.94353675e-04, 1.46407226e+00, 2.12590021e-02, 4.13646831e-01,\n",
              "       1.39444213e-04, 4.26428314e-01, 8.80746953e-02, 8.75296540e+00,\n",
              "       7.51750147e-01, 3.79923951e-02, 2.54776870e-03, 5.01242360e-03,\n",
              "       1.04075881e-02, 1.80599331e-01, 8.27564815e-04, 7.45451170e+01,\n",
              "       3.24632332e-01, 3.46030731e-01, 1.35957464e-02, 1.51036134e-04]),\n",
              "                         &#x27;lr__penalty&#x27;: [&#x27;l1&#x27;, &#x27;l2&#x27;]},\n",
              "             scoring=&#x27;accuracy&#x27;)</pre><b>In a Jupyter environment, please rerun this cell to show the HTML representation or trust the notebook. <br />On GitHub, the HTML representation is unable to render, please try loading this page with nbviewer.org.</b></div><div class=\"sk-container\" hidden><div class=\"sk-item sk-dashed-wrapped\"><div class=\"sk-label-container\"><div class=\"sk-label sk-toggleable\"><input class=\"sk-toggleable__control sk-hidden--visually\" id=\"sk-estimator-id-1\" type=\"checkbox\" ><label for=\"sk-estimator-id-1\" class=\"sk-toggleable__label sk-toggleable__label-arrow\">GridSearchCV</label><div class=\"sk-toggleable__content\"><pre>GridSearchCV(cv=KFold(n_splits=3, random_state=None, shuffle=False),\n",
              "             estimator=Pipeline(steps=[(&#x27;lr&#x27;,\n",
              "                                        LogisticRegression(random_state=42,\n",
              "                                                           solver=&#x27;liblinear&#x27;))]),\n",
              "             param_grid={&#x27;lr__C&#x27;: array([9.94537269e-01, 9.59970017e+00, 1.75121924e+01, 7.23387374e-02,\n",
              "       3.33073195e+01, 2.64268734e+00, 5.97463675e-02, 1.21001897e-03,\n",
              "       2.70354099e+00, 8.47289525e-02, 3.21603731e+00, 1....\n",
              "       4.26008183e+00, 2.78051885e+00, 2.63958130e-04, 4.35266886e-02,\n",
              "       9.94353675e-04, 1.46407226e+00, 2.12590021e-02, 4.13646831e-01,\n",
              "       1.39444213e-04, 4.26428314e-01, 8.80746953e-02, 8.75296540e+00,\n",
              "       7.51750147e-01, 3.79923951e-02, 2.54776870e-03, 5.01242360e-03,\n",
              "       1.04075881e-02, 1.80599331e-01, 8.27564815e-04, 7.45451170e+01,\n",
              "       3.24632332e-01, 3.46030731e-01, 1.35957464e-02, 1.51036134e-04]),\n",
              "                         &#x27;lr__penalty&#x27;: [&#x27;l1&#x27;, &#x27;l2&#x27;]},\n",
              "             scoring=&#x27;accuracy&#x27;)</pre></div></div></div><div class=\"sk-parallel\"><div class=\"sk-parallel-item\"><div class=\"sk-item\"><div class=\"sk-label-container\"><div class=\"sk-label sk-toggleable\"><input class=\"sk-toggleable__control sk-hidden--visually\" id=\"sk-estimator-id-2\" type=\"checkbox\" ><label for=\"sk-estimator-id-2\" class=\"sk-toggleable__label sk-toggleable__label-arrow\">estimator: Pipeline</label><div class=\"sk-toggleable__content\"><pre>Pipeline(steps=[(&#x27;lr&#x27;,\n",
              "                 LogisticRegression(random_state=42, solver=&#x27;liblinear&#x27;))])</pre></div></div></div><div class=\"sk-serial\"><div class=\"sk-item\"><div class=\"sk-serial\"><div class=\"sk-item\"><div class=\"sk-estimator sk-toggleable\"><input class=\"sk-toggleable__control sk-hidden--visually\" id=\"sk-estimator-id-3\" type=\"checkbox\" ><label for=\"sk-estimator-id-3\" class=\"sk-toggleable__label sk-toggleable__label-arrow\">LogisticRegression</label><div class=\"sk-toggleable__content\"><pre>LogisticRegression(random_state=42, solver=&#x27;liblinear&#x27;)</pre></div></div></div></div></div></div></div></div></div></div></div></div>"
            ]
          },
          "metadata": {},
          "execution_count": 8
        }
      ]
    },
    {
      "cell_type": "markdown",
      "source": [
        "Обучим GridSearchCV с параметрами"
      ],
      "metadata": {
        "id": "zyglXiLpg4TY"
      }
    },
    {
      "cell_type": "code",
      "source": [
        "model_grid = grid_search.fit(X, y)"
      ],
      "metadata": {
        "id": "Nzowcezfh8gO"
      },
      "execution_count": 9,
      "outputs": []
    },
    {
      "cell_type": "markdown",
      "source": [
        "Теперь можем посмотреть на лучший score и наилучшие гиперпараметры:"
      ],
      "metadata": {
        "id": "JjlOPoc-iGSR"
      }
    },
    {
      "cell_type": "code",
      "source": [
        "print(model_grid.best_score_)\n",
        "print(model_grid.best_params_)"
      ],
      "metadata": {
        "colab": {
          "base_uri": "https://localhost:8080/"
        },
        "id": "OwQmx_S4iLrq",
        "outputId": "ac4edb45-778d-418f-b5f2-9c81bbfdfa8b"
      },
      "execution_count": 10,
      "outputs": [
        {
          "output_type": "stream",
          "name": "stdout",
          "text": [
            "0.8680027332721943\n",
            "{'lr__C': 0.002623872310270619, 'lr__penalty': 'l2'}\n"
          ]
        }
      ]
    },
    {
      "cell_type": "markdown",
      "source": [
        "# RANDOM SEARCH\n",
        "\n",
        "Для случайного поиска воспользуемся RandomizedSearchCV из sklearn.model_selection.  \n",
        "Помимо модели, параметров, скоринга и cv, зададим n_iter.   \n",
        "Он отвечает за количество выбранных комбинаций параметров.   \n",
        "Чем больше n_iter, тем дольше будет работать поиск.   \n",
        "Соответственно, максимально возможный n_iter приближает RandomizedSearchCV к GridSearchCV."
      ],
      "metadata": {
        "id": "kFX6_dt2ibiF"
      }
    },
    {
      "cell_type": "markdown",
      "source": [
        "Зададим n_iter = 70 и инициализируем RandomizedSearchCV."
      ],
      "metadata": {
        "id": "hwnjjMhTjJwg"
      }
    },
    {
      "cell_type": "code",
      "source": [
        "cv = KFold(3)\n",
        "random_search = RandomizedSearchCV(model, param_distributions=search_space, cv = cv, n_iter = 70, scoring='accuracy')\n",
        "random_search"
      ],
      "metadata": {
        "colab": {
          "base_uri": "https://localhost:8080/",
          "height": 119
        },
        "id": "xQPHwWSujP3a",
        "outputId": "186b0aa4-9af8-4dbc-8ec8-5338d2046b6d"
      },
      "execution_count": 11,
      "outputs": [
        {
          "output_type": "execute_result",
          "data": {
            "text/plain": [
              "RandomizedSearchCV(cv=KFold(n_splits=3, random_state=None, shuffle=False),\n",
              "                   estimator=Pipeline(steps=[('lr',\n",
              "                                              LogisticRegression(random_state=42,\n",
              "                                                                 solver='liblinear'))]),\n",
              "                   n_iter=70,\n",
              "                   param_distributions={'lr__C': array([9.94537269e-01, 9.59970017e+00, 1.75121924e+01, 7.23387374e-02,\n",
              "       3.33073195e+01, 2.64268734e+00, 5.97463675e-02, 1.21001897e-03,\n",
              "       2.70354099e+00, 8.47289...\n",
              "       4.26008183e+00, 2.78051885e+00, 2.63958130e-04, 4.35266886e-02,\n",
              "       9.94353675e-04, 1.46407226e+00, 2.12590021e-02, 4.13646831e-01,\n",
              "       1.39444213e-04, 4.26428314e-01, 8.80746953e-02, 8.75296540e+00,\n",
              "       7.51750147e-01, 3.79923951e-02, 2.54776870e-03, 5.01242360e-03,\n",
              "       1.04075881e-02, 1.80599331e-01, 8.27564815e-04, 7.45451170e+01,\n",
              "       3.24632332e-01, 3.46030731e-01, 1.35957464e-02, 1.51036134e-04]),\n",
              "                                        'lr__penalty': ['l1', 'l2']},\n",
              "                   scoring='accuracy')"
            ],
            "text/html": [
              "<style>#sk-container-id-2 {color: black;background-color: white;}#sk-container-id-2 pre{padding: 0;}#sk-container-id-2 div.sk-toggleable {background-color: white;}#sk-container-id-2 label.sk-toggleable__label {cursor: pointer;display: block;width: 100%;margin-bottom: 0;padding: 0.3em;box-sizing: border-box;text-align: center;}#sk-container-id-2 label.sk-toggleable__label-arrow:before {content: \"▸\";float: left;margin-right: 0.25em;color: #696969;}#sk-container-id-2 label.sk-toggleable__label-arrow:hover:before {color: black;}#sk-container-id-2 div.sk-estimator:hover label.sk-toggleable__label-arrow:before {color: black;}#sk-container-id-2 div.sk-toggleable__content {max-height: 0;max-width: 0;overflow: hidden;text-align: left;background-color: #f0f8ff;}#sk-container-id-2 div.sk-toggleable__content pre {margin: 0.2em;color: black;border-radius: 0.25em;background-color: #f0f8ff;}#sk-container-id-2 input.sk-toggleable__control:checked~div.sk-toggleable__content {max-height: 200px;max-width: 100%;overflow: auto;}#sk-container-id-2 input.sk-toggleable__control:checked~label.sk-toggleable__label-arrow:before {content: \"▾\";}#sk-container-id-2 div.sk-estimator input.sk-toggleable__control:checked~label.sk-toggleable__label {background-color: #d4ebff;}#sk-container-id-2 div.sk-label input.sk-toggleable__control:checked~label.sk-toggleable__label {background-color: #d4ebff;}#sk-container-id-2 input.sk-hidden--visually {border: 0;clip: rect(1px 1px 1px 1px);clip: rect(1px, 1px, 1px, 1px);height: 1px;margin: -1px;overflow: hidden;padding: 0;position: absolute;width: 1px;}#sk-container-id-2 div.sk-estimator {font-family: monospace;background-color: #f0f8ff;border: 1px dotted black;border-radius: 0.25em;box-sizing: border-box;margin-bottom: 0.5em;}#sk-container-id-2 div.sk-estimator:hover {background-color: #d4ebff;}#sk-container-id-2 div.sk-parallel-item::after {content: \"\";width: 100%;border-bottom: 1px solid gray;flex-grow: 1;}#sk-container-id-2 div.sk-label:hover label.sk-toggleable__label {background-color: #d4ebff;}#sk-container-id-2 div.sk-serial::before {content: \"\";position: absolute;border-left: 1px solid gray;box-sizing: border-box;top: 0;bottom: 0;left: 50%;z-index: 0;}#sk-container-id-2 div.sk-serial {display: flex;flex-direction: column;align-items: center;background-color: white;padding-right: 0.2em;padding-left: 0.2em;position: relative;}#sk-container-id-2 div.sk-item {position: relative;z-index: 1;}#sk-container-id-2 div.sk-parallel {display: flex;align-items: stretch;justify-content: center;background-color: white;position: relative;}#sk-container-id-2 div.sk-item::before, #sk-container-id-2 div.sk-parallel-item::before {content: \"\";position: absolute;border-left: 1px solid gray;box-sizing: border-box;top: 0;bottom: 0;left: 50%;z-index: -1;}#sk-container-id-2 div.sk-parallel-item {display: flex;flex-direction: column;z-index: 1;position: relative;background-color: white;}#sk-container-id-2 div.sk-parallel-item:first-child::after {align-self: flex-end;width: 50%;}#sk-container-id-2 div.sk-parallel-item:last-child::after {align-self: flex-start;width: 50%;}#sk-container-id-2 div.sk-parallel-item:only-child::after {width: 0;}#sk-container-id-2 div.sk-dashed-wrapped {border: 1px dashed gray;margin: 0 0.4em 0.5em 0.4em;box-sizing: border-box;padding-bottom: 0.4em;background-color: white;}#sk-container-id-2 div.sk-label label {font-family: monospace;font-weight: bold;display: inline-block;line-height: 1.2em;}#sk-container-id-2 div.sk-label-container {text-align: center;}#sk-container-id-2 div.sk-container {/* jupyter's `normalize.less` sets `[hidden] { display: none; }` but bootstrap.min.css set `[hidden] { display: none !important; }` so we also need the `!important` here to be able to override the default hidden behavior on the sphinx rendered scikit-learn.org. See: https://github.com/scikit-learn/scikit-learn/issues/21755 */display: inline-block !important;position: relative;}#sk-container-id-2 div.sk-text-repr-fallback {display: none;}</style><div id=\"sk-container-id-2\" class=\"sk-top-container\"><div class=\"sk-text-repr-fallback\"><pre>RandomizedSearchCV(cv=KFold(n_splits=3, random_state=None, shuffle=False),\n",
              "                   estimator=Pipeline(steps=[(&#x27;lr&#x27;,\n",
              "                                              LogisticRegression(random_state=42,\n",
              "                                                                 solver=&#x27;liblinear&#x27;))]),\n",
              "                   n_iter=70,\n",
              "                   param_distributions={&#x27;lr__C&#x27;: array([9.94537269e-01, 9.59970017e+00, 1.75121924e+01, 7.23387374e-02,\n",
              "       3.33073195e+01, 2.64268734e+00, 5.97463675e-02, 1.21001897e-03,\n",
              "       2.70354099e+00, 8.47289...\n",
              "       4.26008183e+00, 2.78051885e+00, 2.63958130e-04, 4.35266886e-02,\n",
              "       9.94353675e-04, 1.46407226e+00, 2.12590021e-02, 4.13646831e-01,\n",
              "       1.39444213e-04, 4.26428314e-01, 8.80746953e-02, 8.75296540e+00,\n",
              "       7.51750147e-01, 3.79923951e-02, 2.54776870e-03, 5.01242360e-03,\n",
              "       1.04075881e-02, 1.80599331e-01, 8.27564815e-04, 7.45451170e+01,\n",
              "       3.24632332e-01, 3.46030731e-01, 1.35957464e-02, 1.51036134e-04]),\n",
              "                                        &#x27;lr__penalty&#x27;: [&#x27;l1&#x27;, &#x27;l2&#x27;]},\n",
              "                   scoring=&#x27;accuracy&#x27;)</pre><b>In a Jupyter environment, please rerun this cell to show the HTML representation or trust the notebook. <br />On GitHub, the HTML representation is unable to render, please try loading this page with nbviewer.org.</b></div><div class=\"sk-container\" hidden><div class=\"sk-item sk-dashed-wrapped\"><div class=\"sk-label-container\"><div class=\"sk-label sk-toggleable\"><input class=\"sk-toggleable__control sk-hidden--visually\" id=\"sk-estimator-id-4\" type=\"checkbox\" ><label for=\"sk-estimator-id-4\" class=\"sk-toggleable__label sk-toggleable__label-arrow\">RandomizedSearchCV</label><div class=\"sk-toggleable__content\"><pre>RandomizedSearchCV(cv=KFold(n_splits=3, random_state=None, shuffle=False),\n",
              "                   estimator=Pipeline(steps=[(&#x27;lr&#x27;,\n",
              "                                              LogisticRegression(random_state=42,\n",
              "                                                                 solver=&#x27;liblinear&#x27;))]),\n",
              "                   n_iter=70,\n",
              "                   param_distributions={&#x27;lr__C&#x27;: array([9.94537269e-01, 9.59970017e+00, 1.75121924e+01, 7.23387374e-02,\n",
              "       3.33073195e+01, 2.64268734e+00, 5.97463675e-02, 1.21001897e-03,\n",
              "       2.70354099e+00, 8.47289...\n",
              "       4.26008183e+00, 2.78051885e+00, 2.63958130e-04, 4.35266886e-02,\n",
              "       9.94353675e-04, 1.46407226e+00, 2.12590021e-02, 4.13646831e-01,\n",
              "       1.39444213e-04, 4.26428314e-01, 8.80746953e-02, 8.75296540e+00,\n",
              "       7.51750147e-01, 3.79923951e-02, 2.54776870e-03, 5.01242360e-03,\n",
              "       1.04075881e-02, 1.80599331e-01, 8.27564815e-04, 7.45451170e+01,\n",
              "       3.24632332e-01, 3.46030731e-01, 1.35957464e-02, 1.51036134e-04]),\n",
              "                                        &#x27;lr__penalty&#x27;: [&#x27;l1&#x27;, &#x27;l2&#x27;]},\n",
              "                   scoring=&#x27;accuracy&#x27;)</pre></div></div></div><div class=\"sk-parallel\"><div class=\"sk-parallel-item\"><div class=\"sk-item\"><div class=\"sk-label-container\"><div class=\"sk-label sk-toggleable\"><input class=\"sk-toggleable__control sk-hidden--visually\" id=\"sk-estimator-id-5\" type=\"checkbox\" ><label for=\"sk-estimator-id-5\" class=\"sk-toggleable__label sk-toggleable__label-arrow\">estimator: Pipeline</label><div class=\"sk-toggleable__content\"><pre>Pipeline(steps=[(&#x27;lr&#x27;,\n",
              "                 LogisticRegression(random_state=42, solver=&#x27;liblinear&#x27;))])</pre></div></div></div><div class=\"sk-serial\"><div class=\"sk-item\"><div class=\"sk-serial\"><div class=\"sk-item\"><div class=\"sk-estimator sk-toggleable\"><input class=\"sk-toggleable__control sk-hidden--visually\" id=\"sk-estimator-id-6\" type=\"checkbox\" ><label for=\"sk-estimator-id-6\" class=\"sk-toggleable__label sk-toggleable__label-arrow\">LogisticRegression</label><div class=\"sk-toggleable__content\"><pre>LogisticRegression(random_state=42, solver=&#x27;liblinear&#x27;)</pre></div></div></div></div></div></div></div></div></div></div></div></div>"
            ]
          },
          "metadata": {},
          "execution_count": 11
        }
      ]
    },
    {
      "cell_type": "markdown",
      "source": [
        "Обучим RandomSearchCV с параметрами"
      ],
      "metadata": {
        "id": "efHePjgrk-yI"
      }
    },
    {
      "cell_type": "code",
      "source": [
        "model_grid_r = random_search.fit(X, y)"
      ],
      "metadata": {
        "id": "6uODfYFjk-yJ"
      },
      "execution_count": 12,
      "outputs": []
    },
    {
      "cell_type": "markdown",
      "source": [
        "Теперь можем посмотреть на лучший score и наилучшие гиперпараметры:"
      ],
      "metadata": {
        "id": "sQD76H8_k-yM"
      }
    },
    {
      "cell_type": "code",
      "source": [
        "print(model_grid_r.best_score_)\n",
        "print(model_grid_r.best_params_)"
      ],
      "metadata": {
        "colab": {
          "base_uri": "https://localhost:8080/"
        },
        "outputId": "0d9a66da-065b-4029-ca9e-d3c1b4161c89",
        "id": "-KU6AitOk-yN"
      },
      "execution_count": 13,
      "outputs": [
        {
          "output_type": "stream",
          "name": "stdout",
          "text": [
            "0.8680027332721943\n",
            "{'lr__penalty': 'l2', 'lr__C': 0.0026180648711200847}\n"
          ]
        }
      ]
    },
    {
      "cell_type": "markdown",
      "source": [
        "# Генетический алгоритм ТРОТ\n"
      ],
      "metadata": {
        "id": "14KwSF-onCXb"
      }
    },
    {
      "cell_type": "code",
      "source": [
        "!pip install tpot\n",
        "from tpot import TPOTClassifier"
      ],
      "metadata": {
        "colab": {
          "base_uri": "https://localhost:8080/"
        },
        "id": "3maUlbJGnXFQ",
        "outputId": "9f6d63fe-96a6-4cce-ca8c-e90023f9fa09"
      },
      "execution_count": 14,
      "outputs": [
        {
          "output_type": "stream",
          "name": "stdout",
          "text": [
            "Requirement already satisfied: tpot in /usr/local/lib/python3.10/dist-packages (0.12.1)\n",
            "Requirement already satisfied: numpy>=1.16.3 in /usr/local/lib/python3.10/dist-packages (from tpot) (1.23.5)\n",
            "Requirement already satisfied: scipy>=1.3.1 in /usr/local/lib/python3.10/dist-packages (from tpot) (1.11.3)\n",
            "Requirement already satisfied: scikit-learn>=0.22.0 in /usr/local/lib/python3.10/dist-packages (from tpot) (1.2.2)\n",
            "Requirement already satisfied: deap>=1.2 in /usr/local/lib/python3.10/dist-packages (from tpot) (1.4.1)\n",
            "Requirement already satisfied: update-checker>=0.16 in /usr/local/lib/python3.10/dist-packages (from tpot) (0.18.0)\n",
            "Requirement already satisfied: tqdm>=4.36.1 in /usr/local/lib/python3.10/dist-packages (from tpot) (4.66.1)\n",
            "Requirement already satisfied: stopit>=1.1.1 in /usr/local/lib/python3.10/dist-packages (from tpot) (1.1.2)\n",
            "Requirement already satisfied: pandas>=0.24.2 in /usr/local/lib/python3.10/dist-packages (from tpot) (1.5.3)\n",
            "Requirement already satisfied: joblib>=0.13.2 in /usr/local/lib/python3.10/dist-packages (from tpot) (1.3.2)\n",
            "Requirement already satisfied: xgboost>=1.1.0 in /usr/local/lib/python3.10/dist-packages (from tpot) (2.0.2)\n",
            "Requirement already satisfied: python-dateutil>=2.8.1 in /usr/local/lib/python3.10/dist-packages (from pandas>=0.24.2->tpot) (2.8.2)\n",
            "Requirement already satisfied: pytz>=2020.1 in /usr/local/lib/python3.10/dist-packages (from pandas>=0.24.2->tpot) (2023.3.post1)\n",
            "Requirement already satisfied: threadpoolctl>=2.0.0 in /usr/local/lib/python3.10/dist-packages (from scikit-learn>=0.22.0->tpot) (3.2.0)\n",
            "Requirement already satisfied: requests>=2.3.0 in /usr/local/lib/python3.10/dist-packages (from update-checker>=0.16->tpot) (2.31.0)\n",
            "Requirement already satisfied: six>=1.5 in /usr/local/lib/python3.10/dist-packages (from python-dateutil>=2.8.1->pandas>=0.24.2->tpot) (1.16.0)\n",
            "Requirement already satisfied: charset-normalizer<4,>=2 in /usr/local/lib/python3.10/dist-packages (from requests>=2.3.0->update-checker>=0.16->tpot) (3.3.2)\n",
            "Requirement already satisfied: idna<4,>=2.5 in /usr/local/lib/python3.10/dist-packages (from requests>=2.3.0->update-checker>=0.16->tpot) (3.4)\n",
            "Requirement already satisfied: urllib3<3,>=1.21.1 in /usr/local/lib/python3.10/dist-packages (from requests>=2.3.0->update-checker>=0.16->tpot) (2.0.7)\n",
            "Requirement already satisfied: certifi>=2017.4.17 in /usr/local/lib/python3.10/dist-packages (from requests>=2.3.0->update-checker>=0.16->tpot) (2023.7.22)\n"
          ]
        }
      ]
    },
    {
      "cell_type": "markdown",
      "source": [
        "Зададим параметры немного иначе, при этом оставив те же значения."
      ],
      "metadata": {
        "id": "mDcDB3m2nuEb"
      }
    },
    {
      "cell_type": "code",
      "source": [
        "search_space = {\n",
        "                'penalty' : ['l1', 'l2'],\n",
        "                'C' : loguniform.rvs(10**(-4),10**2, size=100)\n",
        "                }"
      ],
      "metadata": {
        "id": "0Yn4_hWInf1K"
      },
      "execution_count": 15,
      "outputs": []
    },
    {
      "cell_type": "markdown",
      "source": [
        "Перед инициализацией классификатора добавим следующие параметры"
      ],
      "metadata": {
        "id": "SzD8km6xsDxp"
      }
    },
    {
      "cell_type": "code",
      "source": [
        "cv = KFold(3)\n",
        "tpot_classifier = TPOTClassifier(cv = cv,\n",
        "                                scoring='accuracy',\n",
        "                                generations = 5, # количество поколений в процессе оптимизации\n",
        "                                population_size = 50, # число особей, сохраняемых в популяции генетического программирования в каждом поколении\n",
        "                                offspring_size = 25, # количество потомства, которое нужно произвести в каждом поколении генетического программирования\n",
        "                                verbosity = 2,\n",
        "                                config_dict = {'sklearn.linear_model.LogisticRegression': search_space}, # cловарь с гиперпараметрами для оптимизации для выбранной модели)\n",
        ")\n",
        "tpot_classifier"
      ],
      "metadata": {
        "colab": {
          "base_uri": "https://localhost:8080/",
          "height": 252
        },
        "id": "91XEziLDsOtV",
        "outputId": "b323f66d-188b-4578-d098-a17c6378162e"
      },
      "execution_count": 16,
      "outputs": [
        {
          "output_type": "execute_result",
          "data": {
            "text/plain": [
              "TPOTClassifier(config_dict={'sklearn.linear_model.LogisticRegression': {'C': array([1.16456477e-04, 1.54881043e-01, 5.71743302e-04, 1.81914893e-03,\n",
              "       1.05389084e-04, 7.18240482e-03, 2.75567557e-01, 1.66775518e-02,\n",
              "       6.07988985e-02, 2.49301261e-02, 2.24077437e-02, 9.07240559e+00,\n",
              "       3.31852105e-04, 1.73495938e-04, 3.92837326e-04, 4.89333338e+01,\n",
              "       5.04452410e-02, 4.39024978e+0...\n",
              "       1.06143296e-01, 3.80614236e+01, 2.82708082e-04, 8.48504567e-01,\n",
              "       3.74997145e+00, 8.46624230e-02, 1.35913263e-03, 9.26872778e-03,\n",
              "       1.82484706e-01, 9.01592933e-02, 3.78321850e-04, 2.88336713e-04,\n",
              "       3.02762558e+01, 1.14086437e+00, 6.19699082e+00, 1.27197235e-02]),\n",
              "                                                                        'penalty': ['l1',\n",
              "                                                                                    'l2']}},\n",
              "               cv=KFold(n_splits=3, random_state=None, shuffle=False),\n",
              "               generations=5, offspring_size=25, population_size=50,\n",
              "               scoring='accuracy', verbosity=2)"
            ],
            "text/html": [
              "<style>#sk-container-id-3 {color: black;background-color: white;}#sk-container-id-3 pre{padding: 0;}#sk-container-id-3 div.sk-toggleable {background-color: white;}#sk-container-id-3 label.sk-toggleable__label {cursor: pointer;display: block;width: 100%;margin-bottom: 0;padding: 0.3em;box-sizing: border-box;text-align: center;}#sk-container-id-3 label.sk-toggleable__label-arrow:before {content: \"▸\";float: left;margin-right: 0.25em;color: #696969;}#sk-container-id-3 label.sk-toggleable__label-arrow:hover:before {color: black;}#sk-container-id-3 div.sk-estimator:hover label.sk-toggleable__label-arrow:before {color: black;}#sk-container-id-3 div.sk-toggleable__content {max-height: 0;max-width: 0;overflow: hidden;text-align: left;background-color: #f0f8ff;}#sk-container-id-3 div.sk-toggleable__content pre {margin: 0.2em;color: black;border-radius: 0.25em;background-color: #f0f8ff;}#sk-container-id-3 input.sk-toggleable__control:checked~div.sk-toggleable__content {max-height: 200px;max-width: 100%;overflow: auto;}#sk-container-id-3 input.sk-toggleable__control:checked~label.sk-toggleable__label-arrow:before {content: \"▾\";}#sk-container-id-3 div.sk-estimator input.sk-toggleable__control:checked~label.sk-toggleable__label {background-color: #d4ebff;}#sk-container-id-3 div.sk-label input.sk-toggleable__control:checked~label.sk-toggleable__label {background-color: #d4ebff;}#sk-container-id-3 input.sk-hidden--visually {border: 0;clip: rect(1px 1px 1px 1px);clip: rect(1px, 1px, 1px, 1px);height: 1px;margin: -1px;overflow: hidden;padding: 0;position: absolute;width: 1px;}#sk-container-id-3 div.sk-estimator {font-family: monospace;background-color: #f0f8ff;border: 1px dotted black;border-radius: 0.25em;box-sizing: border-box;margin-bottom: 0.5em;}#sk-container-id-3 div.sk-estimator:hover {background-color: #d4ebff;}#sk-container-id-3 div.sk-parallel-item::after {content: \"\";width: 100%;border-bottom: 1px solid gray;flex-grow: 1;}#sk-container-id-3 div.sk-label:hover label.sk-toggleable__label {background-color: #d4ebff;}#sk-container-id-3 div.sk-serial::before {content: \"\";position: absolute;border-left: 1px solid gray;box-sizing: border-box;top: 0;bottom: 0;left: 50%;z-index: 0;}#sk-container-id-3 div.sk-serial {display: flex;flex-direction: column;align-items: center;background-color: white;padding-right: 0.2em;padding-left: 0.2em;position: relative;}#sk-container-id-3 div.sk-item {position: relative;z-index: 1;}#sk-container-id-3 div.sk-parallel {display: flex;align-items: stretch;justify-content: center;background-color: white;position: relative;}#sk-container-id-3 div.sk-item::before, #sk-container-id-3 div.sk-parallel-item::before {content: \"\";position: absolute;border-left: 1px solid gray;box-sizing: border-box;top: 0;bottom: 0;left: 50%;z-index: -1;}#sk-container-id-3 div.sk-parallel-item {display: flex;flex-direction: column;z-index: 1;position: relative;background-color: white;}#sk-container-id-3 div.sk-parallel-item:first-child::after {align-self: flex-end;width: 50%;}#sk-container-id-3 div.sk-parallel-item:last-child::after {align-self: flex-start;width: 50%;}#sk-container-id-3 div.sk-parallel-item:only-child::after {width: 0;}#sk-container-id-3 div.sk-dashed-wrapped {border: 1px dashed gray;margin: 0 0.4em 0.5em 0.4em;box-sizing: border-box;padding-bottom: 0.4em;background-color: white;}#sk-container-id-3 div.sk-label label {font-family: monospace;font-weight: bold;display: inline-block;line-height: 1.2em;}#sk-container-id-3 div.sk-label-container {text-align: center;}#sk-container-id-3 div.sk-container {/* jupyter's `normalize.less` sets `[hidden] { display: none; }` but bootstrap.min.css set `[hidden] { display: none !important; }` so we also need the `!important` here to be able to override the default hidden behavior on the sphinx rendered scikit-learn.org. See: https://github.com/scikit-learn/scikit-learn/issues/21755 */display: inline-block !important;position: relative;}#sk-container-id-3 div.sk-text-repr-fallback {display: none;}</style><div id=\"sk-container-id-3\" class=\"sk-top-container\"><div class=\"sk-text-repr-fallback\"><pre>TPOTClassifier(config_dict={&#x27;sklearn.linear_model.LogisticRegression&#x27;: {&#x27;C&#x27;: array([1.16456477e-04, 1.54881043e-01, 5.71743302e-04, 1.81914893e-03,\n",
              "       1.05389084e-04, 7.18240482e-03, 2.75567557e-01, 1.66775518e-02,\n",
              "       6.07988985e-02, 2.49301261e-02, 2.24077437e-02, 9.07240559e+00,\n",
              "       3.31852105e-04, 1.73495938e-04, 3.92837326e-04, 4.89333338e+01,\n",
              "       5.04452410e-02, 4.39024978e+0...\n",
              "       1.06143296e-01, 3.80614236e+01, 2.82708082e-04, 8.48504567e-01,\n",
              "       3.74997145e+00, 8.46624230e-02, 1.35913263e-03, 9.26872778e-03,\n",
              "       1.82484706e-01, 9.01592933e-02, 3.78321850e-04, 2.88336713e-04,\n",
              "       3.02762558e+01, 1.14086437e+00, 6.19699082e+00, 1.27197235e-02]),\n",
              "                                                                        &#x27;penalty&#x27;: [&#x27;l1&#x27;,\n",
              "                                                                                    &#x27;l2&#x27;]}},\n",
              "               cv=KFold(n_splits=3, random_state=None, shuffle=False),\n",
              "               generations=5, offspring_size=25, population_size=50,\n",
              "               scoring=&#x27;accuracy&#x27;, verbosity=2)</pre><b>In a Jupyter environment, please rerun this cell to show the HTML representation or trust the notebook. <br />On GitHub, the HTML representation is unable to render, please try loading this page with nbviewer.org.</b></div><div class=\"sk-container\" hidden><div class=\"sk-item\"><div class=\"sk-estimator sk-toggleable\"><input class=\"sk-toggleable__control sk-hidden--visually\" id=\"sk-estimator-id-7\" type=\"checkbox\" checked><label for=\"sk-estimator-id-7\" class=\"sk-toggleable__label sk-toggleable__label-arrow\">TPOTClassifier</label><div class=\"sk-toggleable__content\"><pre>TPOTClassifier(config_dict={&#x27;sklearn.linear_model.LogisticRegression&#x27;: {&#x27;C&#x27;: array([1.16456477e-04, 1.54881043e-01, 5.71743302e-04, 1.81914893e-03,\n",
              "       1.05389084e-04, 7.18240482e-03, 2.75567557e-01, 1.66775518e-02,\n",
              "       6.07988985e-02, 2.49301261e-02, 2.24077437e-02, 9.07240559e+00,\n",
              "       3.31852105e-04, 1.73495938e-04, 3.92837326e-04, 4.89333338e+01,\n",
              "       5.04452410e-02, 4.39024978e+0...\n",
              "       1.06143296e-01, 3.80614236e+01, 2.82708082e-04, 8.48504567e-01,\n",
              "       3.74997145e+00, 8.46624230e-02, 1.35913263e-03, 9.26872778e-03,\n",
              "       1.82484706e-01, 9.01592933e-02, 3.78321850e-04, 2.88336713e-04,\n",
              "       3.02762558e+01, 1.14086437e+00, 6.19699082e+00, 1.27197235e-02]),\n",
              "                                                                        &#x27;penalty&#x27;: [&#x27;l1&#x27;,\n",
              "                                                                                    &#x27;l2&#x27;]}},\n",
              "               cv=KFold(n_splits=3, random_state=None, shuffle=False),\n",
              "               generations=5, offspring_size=25, population_size=50,\n",
              "               scoring=&#x27;accuracy&#x27;, verbosity=2)</pre></div></div></div></div></div>"
            ]
          },
          "metadata": {},
          "execution_count": 16
        }
      ]
    },
    {
      "cell_type": "markdown",
      "source": [
        "Обучим инициализированный классификатор"
      ],
      "metadata": {
        "id": "-nBDSGF-uS2A"
      }
    },
    {
      "cell_type": "code",
      "source": [
        "tpot_classifier.fit(X, y)"
      ],
      "metadata": {
        "colab": {
          "base_uri": "https://localhost:8080/",
          "height": 461,
          "referenced_widgets": [
            "aa96adb5faae4c8185c6e2cca0196a45",
            "5513d25df75145ab84865b461ec09756",
            "36a703f0cc194068ae6a88bd538ef2c6",
            "1f9a3bfa53f34d60b638e494dc2b55ed",
            "9bb123cb746248c6ad7b0ba8a5f18a77",
            "d2affa499984462aa2b1343bbb9d19a4",
            "9e8e0c2b51f04e6694e9f06c019c1192",
            "2c3bf522ce584050a69ce5059d893c5b",
            "f04cf7052859454d814edaa9cd22439d",
            "94213e024aff41f187874ee8652f7279",
            "0f5b7645213145d19780ede2327743d9"
          ]
        },
        "id": "lk51GEg_uIjA",
        "outputId": "865a5d7f-77e9-4b08-a102-b56229b787e3"
      },
      "execution_count": 17,
      "outputs": [
        {
          "output_type": "display_data",
          "data": {
            "text/plain": [
              "Optimization Progress:   0%|          | 0/175 [00:00<?, ?pipeline/s]"
            ],
            "application/vnd.jupyter.widget-view+json": {
              "version_major": 2,
              "version_minor": 0,
              "model_id": "aa96adb5faae4c8185c6e2cca0196a45"
            }
          },
          "metadata": {}
        },
        {
          "output_type": "stream",
          "name": "stdout",
          "text": [
            "\n",
            "Generation 1 - Current best internal CV score: 0.8680087272901643\n",
            "\n",
            "Generation 2 - Current best internal CV score: 0.8680087272901643\n",
            "\n",
            "Generation 3 - Current best internal CV score: 0.8680087272901643\n",
            "\n",
            "Generation 4 - Current best internal CV score: 0.8680087272901643\n",
            "\n",
            "Generation 5 - Current best internal CV score: 0.8680087272901643\n",
            "\n",
            "Best pipeline: LogisticRegression(LogisticRegression(input_matrix, C=0.0011655717739836615, penalty=l2), C=0.15107262864979903, penalty=l2)\n"
          ]
        },
        {
          "output_type": "execute_result",
          "data": {
            "text/plain": [
              "TPOTClassifier(config_dict={'sklearn.linear_model.LogisticRegression': {'C': array([1.16456477e-04, 1.54881043e-01, 5.71743302e-04, 1.81914893e-03,\n",
              "       1.05389084e-04, 7.18240482e-03, 2.75567557e-01, 1.66775518e-02,\n",
              "       6.07988985e-02, 2.49301261e-02, 2.24077437e-02, 9.07240559e+00,\n",
              "       3.31852105e-04, 1.73495938e-04, 3.92837326e-04, 4.89333338e+01,\n",
              "       5.04452410e-02, 4.39024978e+0...\n",
              "       1.06143296e-01, 3.80614236e+01, 2.82708082e-04, 8.48504567e-01,\n",
              "       3.74997145e+00, 8.46624230e-02, 1.35913263e-03, 9.26872778e-03,\n",
              "       1.82484706e-01, 9.01592933e-02, 3.78321850e-04, 2.88336713e-04,\n",
              "       3.02762558e+01, 1.14086437e+00, 6.19699082e+00, 1.27197235e-02]),\n",
              "                                                                        'penalty': ['l1',\n",
              "                                                                                    'l2']}},\n",
              "               cv=KFold(n_splits=3, random_state=None, shuffle=False),\n",
              "               generations=5, offspring_size=25, population_size=50,\n",
              "               scoring='accuracy', verbosity=2)"
            ],
            "text/html": [
              "<style>#sk-container-id-4 {color: black;background-color: white;}#sk-container-id-4 pre{padding: 0;}#sk-container-id-4 div.sk-toggleable {background-color: white;}#sk-container-id-4 label.sk-toggleable__label {cursor: pointer;display: block;width: 100%;margin-bottom: 0;padding: 0.3em;box-sizing: border-box;text-align: center;}#sk-container-id-4 label.sk-toggleable__label-arrow:before {content: \"▸\";float: left;margin-right: 0.25em;color: #696969;}#sk-container-id-4 label.sk-toggleable__label-arrow:hover:before {color: black;}#sk-container-id-4 div.sk-estimator:hover label.sk-toggleable__label-arrow:before {color: black;}#sk-container-id-4 div.sk-toggleable__content {max-height: 0;max-width: 0;overflow: hidden;text-align: left;background-color: #f0f8ff;}#sk-container-id-4 div.sk-toggleable__content pre {margin: 0.2em;color: black;border-radius: 0.25em;background-color: #f0f8ff;}#sk-container-id-4 input.sk-toggleable__control:checked~div.sk-toggleable__content {max-height: 200px;max-width: 100%;overflow: auto;}#sk-container-id-4 input.sk-toggleable__control:checked~label.sk-toggleable__label-arrow:before {content: \"▾\";}#sk-container-id-4 div.sk-estimator input.sk-toggleable__control:checked~label.sk-toggleable__label {background-color: #d4ebff;}#sk-container-id-4 div.sk-label input.sk-toggleable__control:checked~label.sk-toggleable__label {background-color: #d4ebff;}#sk-container-id-4 input.sk-hidden--visually {border: 0;clip: rect(1px 1px 1px 1px);clip: rect(1px, 1px, 1px, 1px);height: 1px;margin: -1px;overflow: hidden;padding: 0;position: absolute;width: 1px;}#sk-container-id-4 div.sk-estimator {font-family: monospace;background-color: #f0f8ff;border: 1px dotted black;border-radius: 0.25em;box-sizing: border-box;margin-bottom: 0.5em;}#sk-container-id-4 div.sk-estimator:hover {background-color: #d4ebff;}#sk-container-id-4 div.sk-parallel-item::after {content: \"\";width: 100%;border-bottom: 1px solid gray;flex-grow: 1;}#sk-container-id-4 div.sk-label:hover label.sk-toggleable__label {background-color: #d4ebff;}#sk-container-id-4 div.sk-serial::before {content: \"\";position: absolute;border-left: 1px solid gray;box-sizing: border-box;top: 0;bottom: 0;left: 50%;z-index: 0;}#sk-container-id-4 div.sk-serial {display: flex;flex-direction: column;align-items: center;background-color: white;padding-right: 0.2em;padding-left: 0.2em;position: relative;}#sk-container-id-4 div.sk-item {position: relative;z-index: 1;}#sk-container-id-4 div.sk-parallel {display: flex;align-items: stretch;justify-content: center;background-color: white;position: relative;}#sk-container-id-4 div.sk-item::before, #sk-container-id-4 div.sk-parallel-item::before {content: \"\";position: absolute;border-left: 1px solid gray;box-sizing: border-box;top: 0;bottom: 0;left: 50%;z-index: -1;}#sk-container-id-4 div.sk-parallel-item {display: flex;flex-direction: column;z-index: 1;position: relative;background-color: white;}#sk-container-id-4 div.sk-parallel-item:first-child::after {align-self: flex-end;width: 50%;}#sk-container-id-4 div.sk-parallel-item:last-child::after {align-self: flex-start;width: 50%;}#sk-container-id-4 div.sk-parallel-item:only-child::after {width: 0;}#sk-container-id-4 div.sk-dashed-wrapped {border: 1px dashed gray;margin: 0 0.4em 0.5em 0.4em;box-sizing: border-box;padding-bottom: 0.4em;background-color: white;}#sk-container-id-4 div.sk-label label {font-family: monospace;font-weight: bold;display: inline-block;line-height: 1.2em;}#sk-container-id-4 div.sk-label-container {text-align: center;}#sk-container-id-4 div.sk-container {/* jupyter's `normalize.less` sets `[hidden] { display: none; }` but bootstrap.min.css set `[hidden] { display: none !important; }` so we also need the `!important` here to be able to override the default hidden behavior on the sphinx rendered scikit-learn.org. See: https://github.com/scikit-learn/scikit-learn/issues/21755 */display: inline-block !important;position: relative;}#sk-container-id-4 div.sk-text-repr-fallback {display: none;}</style><div id=\"sk-container-id-4\" class=\"sk-top-container\"><div class=\"sk-text-repr-fallback\"><pre>TPOTClassifier(config_dict={&#x27;sklearn.linear_model.LogisticRegression&#x27;: {&#x27;C&#x27;: array([1.16456477e-04, 1.54881043e-01, 5.71743302e-04, 1.81914893e-03,\n",
              "       1.05389084e-04, 7.18240482e-03, 2.75567557e-01, 1.66775518e-02,\n",
              "       6.07988985e-02, 2.49301261e-02, 2.24077437e-02, 9.07240559e+00,\n",
              "       3.31852105e-04, 1.73495938e-04, 3.92837326e-04, 4.89333338e+01,\n",
              "       5.04452410e-02, 4.39024978e+0...\n",
              "       1.06143296e-01, 3.80614236e+01, 2.82708082e-04, 8.48504567e-01,\n",
              "       3.74997145e+00, 8.46624230e-02, 1.35913263e-03, 9.26872778e-03,\n",
              "       1.82484706e-01, 9.01592933e-02, 3.78321850e-04, 2.88336713e-04,\n",
              "       3.02762558e+01, 1.14086437e+00, 6.19699082e+00, 1.27197235e-02]),\n",
              "                                                                        &#x27;penalty&#x27;: [&#x27;l1&#x27;,\n",
              "                                                                                    &#x27;l2&#x27;]}},\n",
              "               cv=KFold(n_splits=3, random_state=None, shuffle=False),\n",
              "               generations=5, offspring_size=25, population_size=50,\n",
              "               scoring=&#x27;accuracy&#x27;, verbosity=2)</pre><b>In a Jupyter environment, please rerun this cell to show the HTML representation or trust the notebook. <br />On GitHub, the HTML representation is unable to render, please try loading this page with nbviewer.org.</b></div><div class=\"sk-container\" hidden><div class=\"sk-item\"><div class=\"sk-estimator sk-toggleable\"><input class=\"sk-toggleable__control sk-hidden--visually\" id=\"sk-estimator-id-8\" type=\"checkbox\" checked><label for=\"sk-estimator-id-8\" class=\"sk-toggleable__label sk-toggleable__label-arrow\">TPOTClassifier</label><div class=\"sk-toggleable__content\"><pre>TPOTClassifier(config_dict={&#x27;sklearn.linear_model.LogisticRegression&#x27;: {&#x27;C&#x27;: array([1.16456477e-04, 1.54881043e-01, 5.71743302e-04, 1.81914893e-03,\n",
              "       1.05389084e-04, 7.18240482e-03, 2.75567557e-01, 1.66775518e-02,\n",
              "       6.07988985e-02, 2.49301261e-02, 2.24077437e-02, 9.07240559e+00,\n",
              "       3.31852105e-04, 1.73495938e-04, 3.92837326e-04, 4.89333338e+01,\n",
              "       5.04452410e-02, 4.39024978e+0...\n",
              "       1.06143296e-01, 3.80614236e+01, 2.82708082e-04, 8.48504567e-01,\n",
              "       3.74997145e+00, 8.46624230e-02, 1.35913263e-03, 9.26872778e-03,\n",
              "       1.82484706e-01, 9.01592933e-02, 3.78321850e-04, 2.88336713e-04,\n",
              "       3.02762558e+01, 1.14086437e+00, 6.19699082e+00, 1.27197235e-02]),\n",
              "                                                                        &#x27;penalty&#x27;: [&#x27;l1&#x27;,\n",
              "                                                                                    &#x27;l2&#x27;]}},\n",
              "               cv=KFold(n_splits=3, random_state=None, shuffle=False),\n",
              "               generations=5, offspring_size=25, population_size=50,\n",
              "               scoring=&#x27;accuracy&#x27;, verbosity=2)</pre></div></div></div></div></div>"
            ]
          },
          "metadata": {},
          "execution_count": 17
        }
      ]
    },
    {
      "cell_type": "markdown",
      "source": [
        "Для извлечения наилучших параметров воспользуемся вспомогательным кодом"
      ],
      "metadata": {
        "id": "lX8PBpUDurkE"
      }
    },
    {
      "cell_type": "code",
      "source": [
        "args = {}\n",
        "for arg in tpot_classifier._optimized_pipeline:\n",
        "    if type(arg) != 'Primitive':\n",
        "        try:\n",
        "            if arg.value.split('__')[1].split('=')[0] in ['C', 'penalty']:\n",
        "                args[arg.value.split('__')[1].split('=')[0]] = (arg.value.split('__')[1].split('=')[1])\n",
        "            else:\n",
        "                args[arg.value.split('__')[1].split('=')[0]] = float(arg.value.split('__')[1].split('=')[1])\n",
        "        except:\n",
        "            pass\n",
        "params = args"
      ],
      "metadata": {
        "id": "hdDPM7Iru2Cm"
      },
      "execution_count": 18,
      "outputs": []
    },
    {
      "cell_type": "code",
      "source": [
        "tpot_classifier._optimized_pipeline"
      ],
      "metadata": {
        "colab": {
          "base_uri": "https://localhost:8080/"
        },
        "id": "CqzqMR6dvGHP",
        "outputId": "e24bedfa-fc4e-49d6-a870-24f6b17922b3"
      },
      "execution_count": 19,
      "outputs": [
        {
          "output_type": "execute_result",
          "data": {
            "text/plain": [
              "[<deap.gp.Primitive at 0x780a337b8ea0>,\n",
              " <deap.gp.Primitive at 0x780adc703240>,\n",
              " <deap.gp.Terminal at 0x780a3280e180>,\n",
              " <deap.gp.Terminal at 0x780a3210d2c0>,\n",
              " <deap.gp.Terminal at 0x780a3210e900>,\n",
              " <deap.gp.Terminal at 0x780a3280d0c0>,\n",
              " <deap.gp.Terminal at 0x780a3210e900>]"
            ]
          },
          "metadata": {},
          "execution_count": 19
        }
      ]
    },
    {
      "cell_type": "code",
      "source": [
        "print(params)"
      ],
      "metadata": {
        "colab": {
          "base_uri": "https://localhost:8080/"
        },
        "id": "5p7hWIDvvRox",
        "outputId": "00010d66-45c5-477d-8413-a1fde7b089b3"
      },
      "execution_count": 20,
      "outputs": [
        {
          "output_type": "stream",
          "name": "stdout",
          "text": [
            "{'C': '0.15107262864979903', 'penalty': 'l2'}\n"
          ]
        }
      ]
    },
    {
      "cell_type": "markdown",
      "source": [
        "# БАЙЕСОВСКАЯ ОПТИМИЗАЦИЯ\n",
        "\n",
        "Здесь значения гиперпараметров в текущей итерации выбираются с учётом результатов на предыдущем шаге.\n",
        "\n",
        "Основная идея алгоритма заключается в следующем: на каждой итерации подбора находится компромисс между исследованием регионов с самыми удачными из найденных комбинаций гиперпараметров и исследованием регионов с большой неопределённостью (где могут находиться ещё более удачные комбинации).   \n",
        "Это позволяет во многих случаях найти лучшие значения параметров модели за меньшее количество времени.\n",
        "\n",
        "Мы рассмотрим библиотеку **Hyperopt** для подбора гиперпарметров.   \n",
        "В ней реализовано три алгоритма оптимизации:\n",
        "\n",
        "- классический Random Search;\n",
        "- метод байесовской оптимизации Tree of Parzen Estimators (TPE);\n",
        "- Simulated Annealing, метод имитации отжига.\n",
        "\n",
        "**Hyperopt** может работать с разными типами гиперпараметров — непрерывными, дискретными, категориальными и так далее, что является важным преимуществом этой библиотеки.\n",
        "\n"
      ],
      "metadata": {
        "id": "GjEGcEzdxJCx"
      }
    },
    {
      "cell_type": "code",
      "source": [
        "!pip install hyperopt"
      ],
      "metadata": {
        "colab": {
          "base_uri": "https://localhost:8080/"
        },
        "id": "7OzLgOyBx0AC",
        "outputId": "c27e29b5-a97b-428d-e56e-ab0458075ad5"
      },
      "execution_count": 21,
      "outputs": [
        {
          "output_type": "stream",
          "name": "stdout",
          "text": [
            "Requirement already satisfied: hyperopt in /usr/local/lib/python3.10/dist-packages (0.2.7)\n",
            "Requirement already satisfied: numpy in /usr/local/lib/python3.10/dist-packages (from hyperopt) (1.23.5)\n",
            "Requirement already satisfied: scipy in /usr/local/lib/python3.10/dist-packages (from hyperopt) (1.11.3)\n",
            "Requirement already satisfied: six in /usr/local/lib/python3.10/dist-packages (from hyperopt) (1.16.0)\n",
            "Requirement already satisfied: networkx>=2.2 in /usr/local/lib/python3.10/dist-packages (from hyperopt) (3.2.1)\n",
            "Requirement already satisfied: future in /usr/local/lib/python3.10/dist-packages (from hyperopt) (0.18.3)\n",
            "Requirement already satisfied: tqdm in /usr/local/lib/python3.10/dist-packages (from hyperopt) (4.66.1)\n",
            "Requirement already satisfied: cloudpickle in /usr/local/lib/python3.10/dist-packages (from hyperopt) (2.2.1)\n",
            "Requirement already satisfied: py4j in /usr/local/lib/python3.10/dist-packages (from hyperopt) (0.10.9.7)\n"
          ]
        }
      ]
    },
    {
      "cell_type": "code",
      "source": [
        "from functools import partial\n",
        "from sklearn.model_selection import StratifiedKFold\n",
        "from hyperopt import hp, fmin, tpe, Trials, STATUS_OK\n",
        "# fmin - основная функция, она будет минимизировать наш функционал\n",
        "# tpe - алгоритм оптимизации\n",
        "# hp - включает набор методов для объявления пространства поиска гиперпараметров\n",
        "# trails - используется для логирования результатов"
      ],
      "metadata": {
        "id": "NEvqm7S5x4f0"
      },
      "execution_count": 22,
      "outputs": []
    },
    {
      "cell_type": "markdown",
      "source": [
        "functools.partial(func, *args, **keywords) - возвращает partial-объект (по сути, функцию), который при вызове вызывается как функция func, но дополнительно передают туда позиционные аргументы args, и именованные аргументы kwargs. Если другие аргументы передаются при вызове функции, то позиционные добавляются в конец, а именованные расширяют и перезаписывают.\n"
      ],
      "metadata": {
        "id": "u5x_eqRxypFe"
      }
    },
    {
      "cell_type": "code",
      "source": [
        "# Например:\n",
        "from functools import partial\n",
        "basetwo = partial(int, base=2)\n",
        "basetwo.__doc__ = 'Convert base 2 string to an int.' #Преобразование строки по основанию 2 в int\n",
        "print(basetwo('10010'))\n",
        "print(basetwo('10011'))\n",
        "print(basetwo('100'))"
      ],
      "metadata": {
        "colab": {
          "base_uri": "https://localhost:8080/"
        },
        "id": "hh3eg_DYytWj",
        "outputId": "5ec79cb2-5aba-4c19-9eff-44634723edee"
      },
      "execution_count": 23,
      "outputs": [
        {
          "output_type": "stream",
          "name": "stdout",
          "text": [
            "18\n",
            "19\n",
            "4\n"
          ]
        }
      ]
    },
    {
      "cell_type": "markdown",
      "source": [
        "Укажем объект для сохранения истории поиска (Trials).   \n",
        "Это очень удобно, поскольку можно сохранять, прерывать и затем продолжать процесс поиска гиперпараметров.   \n"
      ],
      "metadata": {
        "id": "GnMauvQ3zvXa"
      }
    },
    {
      "cell_type": "code",
      "source": [
        "trials = Trials() # используется для логирования результатов"
      ],
      "metadata": {
        "id": "NHd2T4DxzNl9"
      },
      "execution_count": 24,
      "outputs": []
    },
    {
      "cell_type": "markdown",
      "source": [
        "Запустим сам процесс подбора с помощью функции fmin.  \n",
        "Укажем в качестве алгоритма поиска tpe.suggest — байесовскую оптимизацию.   \n",
        "Для Random Search нужно указать tpe.rand.suggest."
      ],
      "metadata": {
        "id": "SKsH_fYt_EaU"
      }
    },
    {
      "cell_type": "markdown",
      "source": [
        "Нам понадобится воспользоваться вспомогательной функцией, которую мы будем оптимизировать:"
      ],
      "metadata": {
        "id": "IVboK_-ZBTn0"
      }
    },
    {
      "cell_type": "code",
      "source": [
        "def objective(params, model,  X_train, y_train):\n",
        "    \"\"\"\n",
        "    Кросс-валидация с текущими гиперпараметрами\n",
        "\n",
        "    :params: гиперпараметры\n",
        "    :pipeline: модель\n",
        "    :X_train: матрица признаков\n",
        "    :y_train: вектор меток объектов\n",
        "    :return: средняя точность на кросс-валидации\n",
        "    \"\"\"\n",
        "\n",
        "    # задаём модели требуемые параметры\n",
        "    model.set_params(**params)\n",
        "\n",
        "    # задаём параметры кросс-валидации (стратифицированная 4-фолдовая с перемешиванием)\n",
        "    skf = StratifiedKFold(n_splits=2, shuffle=True, random_state=1)\n",
        "\n",
        "    # проводим кросс-валидацию\n",
        "    score = cross_val_score(estimator=model, X=X_train, y=y_train,\n",
        "                            scoring='accuracy', cv=skf, n_jobs=-1)\n",
        "\n",
        "    # возвращаем результаты, которые записываются в Trials()\n",
        "    return   {'loss': -score.mean(), 'params': params, 'status': STATUS_OK}"
      ],
      "metadata": {
        "id": "tCWPw_DeBdOm"
      },
      "execution_count": 25,
      "outputs": []
    },
    {
      "cell_type": "markdown",
      "source": [
        "Задать гиперпараметры с использованием распределения из hyperopt:"
      ],
      "metadata": {
        "id": "Nl5adTX8_s_2"
      }
    },
    {
      "cell_type": "code",
      "source": [
        "search_space = {\n",
        "                'lr__penalty' : hp.choice(label='penalty',\n",
        "                          options=['l1', 'l2']),\n",
        "                'lr__C' : hp.loguniform(label='C',\n",
        "                        low=-4*np.log(10),\n",
        "                        high=2*np.log(10))\n",
        "}"
      ],
      "metadata": {
        "id": "hicXRXfR_muj"
      },
      "execution_count": 27,
      "outputs": []
    },
    {
      "cell_type": "code",
      "source": [
        "trials = Trials()\n",
        "best = fmin(\n",
        "          # функция для оптимизации\n",
        "            fn=partial(objective, model=model, X_train=X, y_train=y),\n",
        "          # пространство поиска гиперпараметров\n",
        "            space=search_space,\n",
        "          # алгоритм поиска\n",
        "            algo=tpe.suggest,\n",
        "          # число итераций (можно ещё указать  время поиска)\n",
        "            max_evals=40,\n",
        "          # куда сохранять историю поиска\n",
        "            trials=trials,\n",
        "          # random state\n",
        "            rstate=np.random.default_rng(42),\n",
        "          # progressbar\n",
        "            show_progressbar=True\n",
        "        )"
      ],
      "metadata": {
        "colab": {
          "base_uri": "https://localhost:8080/"
        },
        "id": "fxYfvqTi_Joj",
        "outputId": "1a868a65-799a-421f-c5fa-949e6a93b0bd"
      },
      "execution_count": 32,
      "outputs": [
        {
          "output_type": "stream",
          "name": "stdout",
          "text": [
            "100%|██████████| 40/40 [00:02<00:00, 18.49trial/s, best loss: -0.865]\n"
          ]
        }
      ]
    },
    {
      "cell_type": "code",
      "source": [
        "print(\"Наилучшие значения гиперпараметров {}\".format(best))"
      ],
      "metadata": {
        "id": "Dzn5JsNlGaMG",
        "colab": {
          "base_uri": "https://localhost:8080/"
        },
        "outputId": "7e01d13d-1fec-4e2e-ab7d-3f358c32a55b"
      },
      "execution_count": 33,
      "outputs": [
        {
          "output_type": "stream",
          "name": "stdout",
          "text": [
            "Наилучшие значения гиперпараметров {'C': 0.0047921009992456555, 'penalty': 1}\n"
          ]
        }
      ]
    },
    {
      "cell_type": "markdown",
      "source": [
        "Результат у Байесовской оптимизации наилучший.\n",
        "score = -0.865"
      ],
      "metadata": {
        "id": "unxC50C8PpLj"
      }
    },
    {
      "cell_type": "code",
      "source": [],
      "metadata": {
        "id": "POTIodOtOaxV"
      },
      "execution_count": null,
      "outputs": []
    }
  ]
}